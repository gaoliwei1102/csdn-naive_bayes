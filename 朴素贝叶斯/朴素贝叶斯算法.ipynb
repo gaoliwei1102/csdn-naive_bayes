{
 "cells": [
  {
   "cell_type": "markdown",
   "id": "32ee4c27",
   "metadata": {},
   "source": [
    "朴素贝叶斯\n",
    "-"
   ]
  },
  {
   "cell_type": "markdown",
   "id": "f4b9dba6",
   "metadata": {},
   "source": [
    "公式:"
   ]
  },
  {
   "cell_type": "markdown",
   "id": "aa9a2d1d",
   "metadata": {},
   "source": [
    "$$\n",
    "P(A|B) = \\frac{P(B|A)P(A)}{P(B)}\n",
    "$$"
   ]
  },
  {
   "cell_type": "markdown",
   "id": "c684048c",
   "metadata": {},
   "source": [
    "假如换成我们的**分类问题**或许可能更好理解:"
   ]
  },
  {
   "cell_type": "markdown",
   "id": "2730f510",
   "metadata": {},
   "source": [
    "$$\n",
    "P(类别|特征) = \\frac{P(特征|类别)P(类别)}{P(特征)}\n",
    "$$"
   ]
  },
  {
   "cell_type": "markdown",
   "id": "6bdf4bae",
   "metadata": {},
   "source": [
    "可以通过一个小例子形象地描述该算法，请见下表:"
   ]
  },
  {
   "cell_type": "markdown",
   "id": "33fe6416",
   "metadata": {},
   "source": [
    "| 颜值     | 性格     | 努力程度     | 嫁与否     |\n",
    "| --------  | -------- | -------- | -------- |\n",
    "| 帅     | 好     | 上进     | 嫁     |\n",
    "| 不帅     | 好     | 一般     | 不嫁     |\n",
    "| 不帅     | 不好     | 不上进     | 不嫁     |\n",
    "| 帅     | 好     | 一般     | 嫁     |\n",
    "| 不帅     | 好     | 上进     | 嫁     |\n",
    "| 帅     | 不好     | 一般     | 不嫁     |\n",
    "| 帅     | 好     | 不上进     | 嫁     |\n",
    "| 不帅     | 不好     | 上进     | 不嫁     |\n",
    "| 帅     | 不好     | 上进     | 嫁     |\n",
    "| 不帅     | 好     | 不上进     | 不嫁     |"
   ]
  },
  {
   "cell_type": "markdown",
   "id": "64821f45",
   "metadata": {},
   "source": [
    "假设现在有个男生/女生向你求婚，他的特征是(帅，不好，不上进)，你是否会选择嫁呢?"
   ]
  },
  {
   "cell_type": "markdown",
   "id": "ca4f168d",
   "metadata": {},
   "source": [
    "我们通过已有的许多数据，使用朴素贝叶斯算法预测一下:"
   ]
  },
  {
   "cell_type": "markdown",
   "id": "88aef916",
   "metadata": {},
   "source": [
    "$$\n",
    "P(类别|特征) = \\frac{P(特征|类别)P(类别)}{P(特征)}\n",
    "$$"
   ]
  },
  {
   "cell_type": "markdown",
   "id": "be696aa3",
   "metadata": {},
   "source": [
    "可得出以下公式:"
   ]
  },
  {
   "cell_type": "markdown",
   "id": "a6888194",
   "metadata": {},
   "source": [
    "$$P(嫁|帅，不好，不上进) = \\frac{P(帅，不好，不上进|嫁)P(嫁)}{P(帅，不好，不上进)}$$"
   ]
  },
  {
   "cell_type": "markdown",
   "id": "42021779",
   "metadata": {},
   "source": [
    "$$P(不嫁|帅，不好，不上进) = \\frac{P(帅，不好，不上进|不嫁)P(不嫁)}{P(帅，不好，不上进)}$$"
   ]
  },
  {
   "cell_type": "markdown",
   "id": "0410341e",
   "metadata": {},
   "source": [
    "我们通过计算 **P(嫁|帅，不好，不上进)** 与 **P(不嫁|帅，不好，不上进)** 的概率，通过比较进行预测嫁还是不嫁?"
   ]
  },
  {
   "cell_type": "markdown",
   "id": "d60ac0a6",
   "metadata": {},
   "source": [
    "P(嫁): $\\frac{5}{10} = \\frac{1}{2}$"
   ]
  },
  {
   "cell_type": "markdown",
   "id": "318c0ee2",
   "metadata": {},
   "source": [
    "P(不嫁): $\\frac{5}{10} = \\frac{1}{2}$"
   ]
  },
  {
   "cell_type": "markdown",
   "id": "11de0912",
   "metadata": {},
   "source": [
    "由于**朴素贝叶斯**设定特征之间均是**独立**的，故有:"
   ]
  },
  {
   "cell_type": "markdown",
   "id": "9aaa1ec0",
   "metadata": {},
   "source": [
    "P(帅，不好，不上进|嫁) = P(帅|嫁)* P(不好|嫁)* P(不上进|嫁): $\\frac{4}{5}$ * $\\frac{1}{5}$ * $\\frac{1}{5}$ = 0.032"
   ]
  },
  {
   "cell_type": "markdown",
   "id": "64f257da",
   "metadata": {},
   "source": [
    "P(帅，不好，不上进|不嫁) = P(帅|不嫁)* P(不好|不嫁)* P(不上进|不嫁): $\\frac{1}{5}$ * $\\frac{3}{5}$ * $\\frac{2}{5}$ = 0.048"
   ]
  },
  {
   "cell_type": "markdown",
   "id": "f864c8ab",
   "metadata": {},
   "source": [
    "由**全概率公式**可知:"
   ]
  },
  {
   "cell_type": "markdown",
   "id": "40ffd315",
   "metadata": {},
   "source": [
    "P(帅，不好，不上进) = P(帅，不好，不上进|嫁)P(嫁) + P(帅，不好，不上进|不嫁)P(不嫁) = $\\frac{1}{2}$ * ($\\frac{4}{5}$ * $\\frac{1}{5}$ * $\\frac{1}{5}$ + $\\frac{1}{5}$ * $\\frac{3}{5}$ * $\\frac{2}{5}$) = 0.04"
   ]
  },
  {
   "cell_type": "markdown",
   "id": "635a10ea",
   "metadata": {},
   "source": [
    "故可得以下结果:"
   ]
  },
  {
   "cell_type": "markdown",
   "id": "f450f979",
   "metadata": {},
   "source": [
    "$$P(嫁|帅，不好，不上进) = \\frac{0.5 * 0.032}{0.04} = 40\\%$$"
   ]
  },
  {
   "cell_type": "markdown",
   "id": "905067e1",
   "metadata": {},
   "source": [
    "$$P(不嫁|帅，不好，不上进) = \\frac{0.5 * 0.048}{0.04} = 60\\%$$"
   ]
  },
  {
   "cell_type": "markdown",
   "id": "ea4b4c0a",
   "metadata": {},
   "source": [
    "根据贝叶斯概率的比较，女生会选择**不嫁**, 故这就是朴素贝叶斯算法的具体思想。"
   ]
  },
  {
   "cell_type": "markdown",
   "id": "4ed90a95",
   "metadata": {},
   "source": [
    "朴素贝叶斯的三种实现方式\n",
    "-"
   ]
  },
  {
   "cell_type": "markdown",
   "id": "9c5ac3dc",
   "metadata": {},
   "source": [
    "朴素贝叶斯，主要有三种朴素贝叶斯分类器，分别为 **GaussianNB(高斯分布)、MultinomialNB(多项式贝叶斯)、BernoulliNB(伯努利贝叶斯)**。"
   ]
  },
  {
   "cell_type": "markdown",
   "id": "898b1e56",
   "metadata": {},
   "source": [
    "### GaussianNB--高斯贝叶斯"
   ]
  },
  {
   "cell_type": "markdown",
   "id": "8268b445",
   "metadata": {},
   "source": [
    "一般来说，如果样本特征的分布大部分是连续值，使用 GaussianNB 会比较好。"
   ]
  },
  {
   "cell_type": "markdown",
   "id": "62b1b26d",
   "metadata": {},
   "source": [
    "我们也可使用该模型测试一下 鸢尾花分类，得到以下评估结果。"
   ]
  },
  {
   "cell_type": "code",
   "execution_count": 32,
   "id": "6ea10ec8",
   "metadata": {
    "scrolled": false
   },
   "outputs": [
    {
     "name": "stdout",
     "output_type": "stream",
     "text": [
      "(112, 4)\n",
      "(112,)\n",
      "[0 2 2 2 1 0 2 2 0 2 1 1 1 1 2 0 2 1 1 1 2 2 1 0 2 2 1 1 1 0 2 0 0 1 0 1 1\n",
      " 2]\n",
      "The train_score: 0.9464285714285714\n",
      "The test_score: 0.9736842105263158\n"
     ]
    }
   ],
   "source": [
    "import numpy as np               #导入numpy包\n",
    "import pandas as pd              #导入pandas包\n",
    "from sklearn.naive_bayes import GaussianNB                #导入高斯贝叶斯\n",
    "from sklearn.model_selection import train_test_split     #导入拆分 训练集与测试集 的方法\n",
    "from sklearn.metrics import accuracy_score\n",
    "import sklearn\n",
    "import mglearn\n",
    "\n",
    "\n",
    "#使用sklearn的iris鸢尾草数据集\n",
    "dataset_iris = sklearn.datasets.load_iris()\n",
    "\n",
    "#划分训练集与测试集\n",
    "X_train, X_test, y_train, y_test = train_test_split(dataset_iris.data, dataset_iris.target)\n",
    "print(X_train.shape)\n",
    "print(y_train.shape)\n",
    "\n",
    "\n",
    "#训练模型\n",
    "gaussian_nb = GaussianNB().fit(X_train, y_train)\n",
    "\n",
    "#输出所有的预测结果及每个结果的可能性\n",
    "predict = gaussian_nb.predict(X_test)\n",
    "predict_pro = gaussian_nb.predict_proba(X_test)   #预测结果的可能性，一个列表，每个元素表示3个种类的各个可能性，预测结果为最大的那个种类\n",
    "\n",
    "print(predict)           #所有预测结果\n",
    "\n",
    "#分别用高斯贝叶斯模型对训练集与测试集进行评估\n",
    "train_score = gaussian_nb.score(X_train, y_train)\n",
    "test_score = gaussian_nb.score(X_test, y_test)\n",
    "\n",
    "#输出评估的精确度\n",
    "print('The train_score: {}'.format(train_score))\n",
    "print('The test_score: {}'.format(test_score))\n",
    "\n"
   ]
  },
  {
   "cell_type": "markdown",
   "id": "e75825fa",
   "metadata": {},
   "source": [
    "### MultinomialNB"
   ]
  },
  {
   "cell_type": "markdown",
   "id": "84341ef6",
   "metadata": {},
   "source": [
    "MultinomialNB就是先验为**多项式分布**的朴素贝叶斯。\n",
    "\n",
    "它假设特征是由一个简单多项式分布生成的。\n",
    "\n",
    "多项分布可以描述各种类型样本出现次数的概率，因此多项式朴素贝叶斯非常适合**用于描述出现次数或者出现次数比例的特征**.该模型常用于**文本分类**，特征表示的是次数，例如某个词语的出现次数。"
   ]
  },
  {
   "cell_type": "markdown",
   "id": "81c65ee9",
   "metadata": {},
   "source": [
    "若样本特征的分布大部分是多元离散值，使用 MultinomialNB 比较合适。"
   ]
  },
  {
   "cell_type": "markdown",
   "id": "d0138d29",
   "metadata": {},
   "source": [
    "### BernoulliNB"
   ]
  },
  {
   "cell_type": "markdown",
   "id": "ae4d3b4f",
   "metadata": {},
   "source": [
    "BernoulliNB 就是先验为伯努利分布的朴素贝叶斯。\n",
    "\n",
    "在伯努利模型中，每个特征的取值是**布尔型**的，即true和false，或者1和0。\n"
   ]
  },
  {
   "cell_type": "markdown",
   "id": "63d55f5e",
   "metadata": {},
   "source": [
    "若样本特征是二元离散值或者很稀疏的多元离散值，应该使用 BernoulliNB 。"
   ]
  }
 ],
 "metadata": {
  "kernelspec": {
   "display_name": "Python 3 (ipykernel)",
   "language": "python",
   "name": "python3"
  },
  "language_info": {
   "codemirror_mode": {
    "name": "ipython",
    "version": 3
   },
   "file_extension": ".py",
   "mimetype": "text/x-python",
   "name": "python",
   "nbconvert_exporter": "python",
   "pygments_lexer": "ipython3",
   "version": "3.7.2"
  }
 },
 "nbformat": 4,
 "nbformat_minor": 5
}
