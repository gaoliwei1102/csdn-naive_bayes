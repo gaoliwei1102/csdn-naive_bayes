{
 "cells": [
  {
   "cell_type": "markdown",
   "id": "423eac66",
   "metadata": {},
   "source": [
    "## Step1: 爬取京东评论，作为模型数据集"
   ]
  },
  {
   "cell_type": "markdown",
   "id": "7f41834d",
   "metadata": {},
   "source": [
    "爬取10个京东商品的评论信息，每个商品爬取1000条，其中好评信息爬取6000条，差评信息爬取4000条。\n",
    "\n",
    "作为本次评论情感分析的**数据集**。"
   ]
  },
  {
   "cell_type": "markdown",
   "id": "f83461b9",
   "metadata": {},
   "source": [
    "### 测试爬虫"
   ]
  },
  {
   "cell_type": "code",
   "execution_count": 186,
   "id": "837aad75",
   "metadata": {
    "scrolled": false
   },
   "outputs": [
    {
     "name": "stdout",
     "output_type": "stream",
     "text": [
      "[['1.买完没多久就降价600，很无语2.电脑开机经常出现wifi连不上的问题', '0'], ['刚买的，第二次使用就开不了机了，怀疑买的是假货，要求京东给出说法', '0'], ['一分都不想给啊 买来就做个账 转转账 卡的要死', '0'], ['用了2个星期了，第1个星期还没事，第2个星期动不动就开不了机。', '0'], ['非常垃圾的电脑，这个价位配置这么低，新机子就卡的要死，强烈要求退货', '0'], ['买了不到2个月就开不开机了 找客服 没有搭理 真是失望至极！', '0'], ['差评 垃圾机 老是卡顿', '0'], ['重装系统office2021会直接消失 需要重新购买 体验非常差', '0'], ['刚买的居然发现硬盘被使用了九天，插口也有拔插的痕迹，漆都掉了。严重怀疑是上一个买家用了七天退货产品。', '0'], ['京东物流太差了，包装箱破损严重，明显是重摔造成的，幸亏里面的货没有损伤。', '0']]\n"
     ]
    }
   ],
   "source": [
    "import requests\n",
    "import json\n",
    "\n",
    "\n",
    "#获取评论请求地址\n",
    "url = 'https://club.jd.com/comment/productPageComments.action'\n",
    "\n",
    "#请求参数\n",
    "params = {\n",
    "    'callback': 'fetchJSON_comment98',\n",
    "    'productId': '100021771660',\n",
    "    'score': '1',            #类型代表差评\n",
    "    'sortType': '5',         #默认排序\n",
    "    'page': '99',            #第99页数据\n",
    "    'pageSize': '10',\n",
    "    'isShadowSku': '0',\n",
    "    'fold': '1',\n",
    "}\n",
    "\n",
    "#请求头参数，反反爬策略 UA 伪装\n",
    "headers = {\n",
    "    'User-Agent': 'Mozilla/5.0 (Windows NT 10.0; Win64; x64) AppleWebKit/537.36 (KHTML, like Gecko) Chrome/104.0.0.0 Safari/537.36'\n",
    "}\n",
    "\n",
    "#获取响应，并分析响应内容\n",
    "response = requests.get(url = url, params=params, headers=headers)\n",
    "\n",
    "#拆分京东返回的响应数据，得到json类型数据\n",
    "data_json = response.text.replace('fetchJSON_comment98(', '')[:-2]\n",
    "\n",
    "#将json字符串加载为 python的对象中\n",
    "data = json.loads(data_json)\n",
    "\n",
    "good_comments = []\n",
    "\n",
    "for comment in data['comments']:\n",
    "    \n",
    "    #生成每条评论以及它的标签, 0代表好评, 1代表差评\n",
    "    comments = [comment['content'].replace('\\n', ''), '0']\n",
    "    \n",
    "    good_comments.append(comments)\n",
    "\n",
    "print(good_comments)\n",
    "\n"
   ]
  },
  {
   "cell_type": "markdown",
   "id": "ff68dd81",
   "metadata": {},
   "source": [
    "### 爬取6000条好评信息作为数据集，并存储为CSV文件"
   ]
  },
  {
   "cell_type": "markdown",
   "id": "9a02be67",
   "metadata": {},
   "source": [
    "商品链接分别为：(每个商品爬取1000条评论)\n",
    "\n",
    "[Apple MacBook Pro 13.3 八核M1芯片 8G 256G SSD 深空灰 笔记本电脑 轻薄本 MYD82CH/A](https://item.jd.com/100009464821.html#none)\n",
    "\n",
    "\n",
    "[联想笔记本电脑小新Pro14 英特尔Evo平台 14英寸游戏轻薄本(标压i5 16G 512G 2.8K 90Hz护眼屏)全面屏办公本](https://item.jd.com/100014546493.html#none)\n",
    "\n",
    "[华为笔记本电脑MateBook D 14 2022款 14英寸 11代酷睿 i5 16G+512G 锐炬显卡 轻薄本/护眼全面屏 银](https://item.jd.com/100016960357.html#none)\n",
    "\n",
    "[联想ThinkBook 14+ 英特尔酷睿i5 笔记本电脑全新2022款 14英寸标压轻薄本i5-12500H 16G 512G 2.8K 90Hz](https://item.jd.com/100020078921.html#none)\n",
    "\n",
    "[荣耀MagicBook 16 16.1英寸高性能标压轻薄笔记本电脑(R7-5800H 16+512G 144Hz高刷)冰河银](https://item.jd.com/100014373845.html#none)\n",
    "\n",
    "[惠普（HP） 笔记本电脑 星14进阶版高端pro轻薄本超薄商用办公游戏手提学生女超极本旗舰店官网 初恋粉：【背光键盘版-新11代进阶丨2022款】 新i5-1155G7/16G/512G/高72%](https://item.jd.com/32421759213.html#none)"
   ]
  },
  {
   "cell_type": "markdown",
   "id": "12e98874",
   "metadata": {},
   "source": [
    "由于水平原因，总是被反爬虫，所以本段代码需要执行6次，来爬取6000条信息，每次执行需要更换以下**ids**中的商品**id**。"
   ]
  },
  {
   "cell_type": "code",
   "execution_count": null,
   "id": "c1577509",
   "metadata": {},
   "outputs": [
    {
     "name": "stdout",
     "output_type": "stream",
     "text": [
      "1\n",
      "2\n",
      "3\n",
      "4\n",
      "5\n",
      "6\n",
      "7\n",
      "8\n",
      "9\n",
      "10\n",
      "11\n",
      "12\n",
      "13\n",
      "14\n",
      "15\n",
      "16\n",
      "17\n",
      "18\n",
      "19\n",
      "20\n",
      "21\n",
      "22\n",
      "23\n",
      "24\n",
      "25\n",
      "26\n",
      "27\n",
      "28\n",
      "29\n",
      "30\n",
      "31\n",
      "32\n",
      "33\n",
      "34\n",
      "35\n",
      "36\n",
      "37\n",
      "38\n",
      "39\n",
      "40\n",
      "41\n",
      "42\n",
      "43\n",
      "44\n",
      "45\n",
      "46\n",
      "47\n",
      "48\n",
      "49\n",
      "50\n",
      "51\n",
      "52\n",
      "53\n",
      "54\n",
      "55\n",
      "56\n",
      "57\n",
      "58\n",
      "59\n",
      "60\n",
      "61\n",
      "62\n",
      "63\n",
      "64\n",
      "65\n",
      "66\n",
      "67\n",
      "68\n",
      "69\n",
      "70\n",
      "71\n",
      "72\n",
      "73\n",
      "74\n",
      "75\n",
      "76\n",
      "77\n",
      "78\n",
      "79\n",
      "80\n",
      "81\n",
      "82\n",
      "83\n",
      "84\n",
      "85\n",
      "86\n",
      "87\n",
      "88\n",
      "89\n",
      "90\n",
      "91\n",
      "92\n",
      "93\n",
      "94\n",
      "95\n",
      "96\n",
      "97\n"
     ]
    }
   ],
   "source": [
    "import requests\n",
    "import json\n",
    "import time\n",
    "import csv\n",
    "\n",
    "\n",
    "#获取评论请求地址\n",
    "url = 'https://club.jd.com/comment/productPageComments.action'\n",
    "\n",
    "\n",
    "#请求头参数，反反爬策略 UA 伪装\n",
    "headers = {\n",
    "    'User-Agent': 'Mozilla/5.0 (Windows NT 10.0; Win64; x64) AppleWebKit/537.36 (KHTML, like Gecko) Chrome/104.0.0.0 Safari/537.36'\n",
    "}\n",
    "\n",
    "#存放每个商品的id，理论上行得通，实际上行不通，因为反爬策略所以需要多次执行\n",
    "ids = ['100009464821','100014546493','100016960357','100020078921', '100014373845','32421759213']\n",
    "\n",
    "#用于存放所有好评信息的数据\n",
    "good_comments = []\n",
    "\n",
    "for i in range(100):\n",
    "    #请求参数\n",
    "    params = {\n",
    "        'callback': 'fetchJSON_comment98',\n",
    "        'productId': '100028235502',          #代表产品的 id \n",
    "        'score': '2',                         #score = 3 代表均为好评信息\n",
    "        'sortType': '5',                      #排序方式，采用默认排序\n",
    "        'page': str(i),                       #循环爬取每一页的评论信息\n",
    "        'pageSize': '10',\n",
    "        'isShadowSku': '0',\n",
    "        'fold': '1',\n",
    "    }\n",
    "    \n",
    "    #获取响应，并分析响应内容\n",
    "    response = requests.get(url = url, params=params, headers=headers)\n",
    "\n",
    "    #拆分京东返回的响应数据，得到json类型数据\n",
    "    data_json = response.text.replace('fetchJSON_comment98(', '')[:-2]\n",
    "\n",
    "    #将json字符串加载为 python的对象中\n",
    "    data = json.loads(data_json)\n",
    "    \n",
    "    #设置标签为 3， 代表好评\n",
    "    target = '2'\n",
    "    \n",
    "    for comment in data['comments']:\n",
    "        \n",
    "        #对评论数据稍作处理。 去除一些制表符、回车符、包括csv文件分组的','逗号\n",
    "        comment_data = comment['content'].replace('\\n', '，').replace(',', '，').replace('&hellip;','').replace('&nbsp;','')\n",
    "        \n",
    "        #生成每条评论以及它的标签, 0代表好评, 1代表差评\n",
    "        comments = [comment_data, target]\n",
    "\n",
    "        good_comments.append(comments)\n",
    "\n",
    "    print(i+1)\n",
    "    #延迟爬虫，避免反爬\n",
    "    time.sleep(3)\n",
    "\n",
    "\n",
    "#以 写 的方式打开csv文件，并写入好评信息\n",
    "with open('./datasets/new_comments.csv', 'a+', encoding='UTF-8', newline='') as fp:\n",
    "    writer = csv.writer(fp)\n",
    "    writer.writerows(good_comments)\n"
   ]
  },
  {
   "cell_type": "markdown",
   "id": "26578989",
   "metadata": {},
   "source": [
    "### 爬取4000条差评信息作为数据集，并存储为CSV文件"
   ]
  },
  {
   "cell_type": "markdown",
   "id": "ef1db1c5",
   "metadata": {},
   "source": [
    "商品链接分别为：(每个商品爬取1000条评论)\n",
    "\n",
    "[联想笔记本电脑小新Pro14 英特尔Evo平台 14英寸游戏轻薄本(标压i5 16G 512G 2.8K 90Hz护眼屏)全面屏办公本](https://item.jd.com/100014546493.html#none)\n",
    "\n",
    "[华为笔记本电脑MateBook D 14 2022款 14英寸 11代酷睿 i5 16G+512G 锐炬显卡 轻薄本/护眼全面屏 银](https://item.jd.com/100016960357.html#none)\n",
    "\n",
    "[联想笔记本电脑 小新Air14 英特尔酷睿i5 14英寸轻薄本(i5 16G 512G 高色域 大电池)银 全面屏商务办公本](https://item.jd.com/100011483893.html#none)\n",
    "\n",
    "[联想笔记本电脑小新Pro16 16英寸游戏轻薄本(8核标压R7-5800H 16G 512G RTX3050 2.5K 120Hz)高性能商务办公](https://item.jd.com/100021771660.html#none)"
   ]
  },
  {
   "cell_type": "code",
   "execution_count": 3,
   "id": "a4c8b627",
   "metadata": {
    "scrolled": false
   },
   "outputs": [],
   "source": [
    "#用于存放所有差评信息的数据\n",
    "bad_comments = []\n",
    "\n",
    "for i in range(3):\n",
    "    \n",
    "    #请求参数\n",
    "    params = {\n",
    "        'callback': 'fetchJSON_comment98',\n",
    "        'productId': '100021771660',\n",
    "        'score': '1',                         #score = 1 代表均为差评信息\n",
    "        'sortType': '5',\n",
    "        'page': str(i),                       #循环爬取每一页的评论信息\n",
    "        'pageSize': '10',\n",
    "        'isShadowSku': '0',\n",
    "        'fold': '1',\n",
    "    }\n",
    "    \n",
    "    #获取响应，并分析响应内容\n",
    "    response = requests.get(url = url, params=params, headers=headers)\n",
    "\n",
    "    #拆分京东返回的响应数据，得到json类型数据\n",
    "    data_json = response.text.replace('fetchJSON_comment98(', '')[:-2]\n",
    "\n",
    "    #将json字符串加载为 python的对象中\n",
    "    data = json.loads(data_json)\n",
    "    \n",
    "    #设置标签为 1， 代表差评\n",
    "    target = '1'\n",
    "    \n",
    "    for comment in data['comments']:\n",
    "        \n",
    "        #对评论数据稍作处理， 去除'\\n'换行符和 csv文件分隔符 ',' 逗号\n",
    "        comment_data = comment['content'].replace('\\n', '，').replace(',', '，').replace('&hellip;','').replace('&nbsp;','')\n",
    "        \n",
    "        #生成每条评论以及它的标签, 0代表好评, 1代表差评\n",
    "        comments = [comment_data, target]\n",
    "\n",
    "        bad_comments.append(comments)\n",
    "\n",
    "    \n",
    "    print(i+1)\n",
    "    #延迟爬虫，避免反爬\n",
    "    time.sleep(5)\n",
    "\n",
    "\n",
    "#以 追加 的方式打开csv文件，并写入好评信息\n",
    "with open('./datasets/comments.csv', 'a+', encoding='UTF-8', newline='') as fp:\n",
    "    writer = csv.writer(fp)\n",
    "    writer.writerows(bad_comments)"
   ]
  },
  {
   "cell_type": "markdown",
   "id": "4bbbc1cf",
   "metadata": {},
   "source": [
    "## Step2: 读取数据集"
   ]
  },
  {
   "cell_type": "code",
   "execution_count": 4,
   "id": "1a9892f1",
   "metadata": {},
   "outputs": [
    {
     "name": "stdout",
     "output_type": "stream",
     "text": [
      "(10000, 2)\n"
     ]
    }
   ],
   "source": [
    "import numpy as np\n",
    "\n",
    "#用来存放评论的数据集\n",
    "dataset = None\n",
    "\n",
    "#打开文件，并将所有评论信息读取至数据集\n",
    "with open('./datasets/comments.csv', 'r', encoding='UTF-8') as fp:\n",
    "    reader = csv.reader(fp)\n",
    "    \n",
    "    dataset = np.array([comment for comment in reader])\n",
    "\n",
    "#输出数据集的形状\n",
    "print(dataset.shape)"
   ]
  },
  {
   "cell_type": "markdown",
   "id": "d32dcd6d",
   "metadata": {},
   "source": [
    "可见，该数据集一共包含10000条数据，包含评论信息、评论类别信息。"
   ]
  },
  {
   "cell_type": "markdown",
   "id": "7bf74a92",
   "metadata": {},
   "source": [
    "## Step3: 数据预处理(分词、去除停用词、建立词典)"
   ]
  },
  {
   "cell_type": "code",
   "execution_count": 5,
   "id": "8db2ab95",
   "metadata": {
    "scrolled": false
   },
   "outputs": [
    {
     "name": "stderr",
     "output_type": "stream",
     "text": [
      "Building prefix dict from the default dictionary ...\n",
      "Loading model from cache C:\\Users\\Mr.Gao\\AppData\\Local\\Temp\\jieba.cache\n",
      "Loading model cost 1.040 seconds.\n",
      "Prefix dict has been built successfully.\n"
     ]
    },
    {
     "name": "stdout",
     "output_type": "stream",
     "text": [
      "12747\n"
     ]
    }
   ],
   "source": [
    "import jieba\n",
    "\n",
    "dictionary = []            #定义词典\n",
    "stop_words = []            #定义停用词表\n",
    "clear_dataset = []         #定义清洗后的数据集\n",
    "\n",
    "#读取停用词表，并以列表的方式存入stop_words中\n",
    "with open('./file/cn-stopwords.txt', 'r', encoding='UTF-8') as fp:\n",
    "    stop_words = fp.read().split('\\n')\n",
    "\n",
    "for comment in dataset:\n",
    "    words = []      #存放切词后、去除停用词后的句子词组\n",
    "    \n",
    "    #使用jieba对评论进行分词\n",
    "    for word in jieba.lcut(comment[0]):\n",
    "        \n",
    "        #若切出来的词语 不属于停用词表， 加入词组中\n",
    "        if word not in stop_words:\n",
    "            words.append(word)\n",
    "\n",
    "        #向词典中加入所有未加入的词语\n",
    "        if word not in dictionary:\n",
    "            dictionary.append(word)\n",
    "        \n",
    "    #追加句子词组和对应的标志\n",
    "    clear_dataset.append([words,comment[1]])\n",
    "\n",
    "\n",
    "#输出词典的长度\n",
    "print(len(dictionary))\n",
    "\n"
   ]
  },
  {
   "cell_type": "markdown",
   "id": "26bc5bd9",
   "metadata": {},
   "source": [
    "## Step4: 评论语句 转化为 向量"
   ]
  },
  {
   "cell_type": "code",
   "execution_count": 26,
   "id": "595d976d",
   "metadata": {
    "scrolled": true
   },
   "outputs": [],
   "source": [
    "from sklearn.model_selection import train_test_split\n",
    "\n",
    "\n",
    "X = []                                     #存放word2vec后的评论向量\n",
    "y = [y[1] for y in clear_dataset]         #存放每条评论的结果\n",
    "\n",
    "#遍历所有清洗后的评论数据，并将所有评论文本信息转化为向量信息\n",
    "for clear_data in clear_dataset:\n",
    "    \n",
    "    #评论信息列表赋值为sentence\n",
    "    sentence = clear_data[0]\n",
    "    \n",
    "    #首先将每个评论分词列表设置为 (1,5023)的向量，每个向量值为1\n",
    "    #一个句子转化为一个向量\n",
    "    word_2_vec = np.zeros(len(dictionary))\n",
    "    \n",
    "    \n",
    "    #遍历字典，将所有评论分词列表 转化为 向量列表 (超重要!!!)\n",
    "    for word in sentence:\n",
    "        \n",
    "        #如果word存在于字典中\n",
    "        if word in dictionary:\n",
    "            \n",
    "            #找到该词在字典中的位置\n",
    "            loc = dictionary.index(word)\n",
    "            \n",
    "            #此句子对照向量的该位置加1\n",
    "            word_2_vec[loc] += 1 \n",
    "\n",
    "    #X，即输入句子的特征向量列表，追加新句子向量\n",
    "    X.append(word_2_vec)\n"
   ]
  },
  {
   "cell_type": "markdown",
   "id": "019c64bb",
   "metadata": {},
   "source": [
    "## Step5: 拆分数据集----训练集、测试集"
   ]
  },
  {
   "cell_type": "code",
   "execution_count": 27,
   "id": "ef3f2b5d",
   "metadata": {},
   "outputs": [
    {
     "name": "stdout",
     "output_type": "stream",
     "text": [
      "(7500, 12747)\n",
      "(7500,)\n",
      "(2500, 12747)\n",
      "(2500,)\n"
     ]
    }
   ],
   "source": [
    "X = np.array(X)               #转化为numpy数组，X作为输入项，即评论生成的向量\n",
    "y = np.array(y)               #转化为numpy数组，X作为输出项，即评论的类别\n",
    "\n",
    "#X_train，y_train为训练集数据\n",
    "#X_test,y_test为测试集数据\n",
    "X_train, X_test, y_train, y_test = train_test_split(X, y)            #使用sklearn库的随即切分函数，将X、y划分为训练集与测试集\n",
    "\n",
    "\n",
    "#分别输出训练集的 X, y形状， 测试集的X, y的形状\n",
    "print(X_train.shape)\n",
    "print(y_train.shape)\n",
    "print(X_test.shape)\n",
    "print(y_test.shape)"
   ]
  },
  {
   "cell_type": "markdown",
   "id": "fc5beac9",
   "metadata": {},
   "source": [
    "## Step6: 以朴素贝叶斯算法构建模型、训练模型"
   ]
  },
  {
   "cell_type": "markdown",
   "id": "7125fbd7",
   "metadata": {},
   "source": [
    "这一段代码可能是最难理解的一段代码，因为此处涉及到**朴素贝叶斯模型**算法。"
   ]
  },
  {
   "cell_type": "markdown",
   "id": "7b343aae",
   "metadata": {},
   "source": [
    "注意观察朴素贝叶斯算法:"
   ]
  },
  {
   "cell_type": "markdown",
   "id": "af59e002",
   "metadata": {},
   "source": [
    "$$\n",
    "P(A|B) = \\frac{P(B|A)P(A)}{P(B)}\n",
    "$$"
   ]
  },
  {
   "cell_type": "markdown",
   "id": "f9d268d6",
   "metadata": {},
   "source": [
    "即为:"
   ]
  },
  {
   "cell_type": "markdown",
   "id": "169bcc29",
   "metadata": {},
   "source": [
    "$$\n",
    "P(类别|特征) = \\frac{P(特征|类别)P(类别)}{P(特征)}\n",
    "$$"
   ]
  },
  {
   "cell_type": "markdown",
   "id": "43f418d6",
   "metadata": {},
   "source": [
    "此时问题转化为了求解:"
   ]
  },
  {
   "cell_type": "markdown",
   "id": "c404e8aa",
   "metadata": {},
   "source": [
    "- $P(特征|类别)$\n",
    "- $P(类别)$\n",
    "- $P(特征)$"
   ]
  },
  {
   "cell_type": "markdown",
   "id": "ec70c184",
   "metadata": {},
   "source": [
    "由于朴素贝叶斯的设定每个特征之间都是独立的,可以推出:"
   ]
  },
  {
   "cell_type": "markdown",
   "id": "9c43aeb3",
   "metadata": {},
   "source": [
    "$$P(特征|类别) = P(特征1|类别) * P(特征2|类别) * P(特征3|类别) * ... * P(特征n|类别)$$"
   ]
  },
  {
   "cell_type": "markdown",
   "id": "58a3b980",
   "metadata": {},
   "source": [
    "那么, 我们可以依次求出 P(特征1|类别)、P(特征2|类别)、P(特征3|类别)...P(特征n|类别)，即"
   ]
  },
  {
   "cell_type": "markdown",
   "id": "0dac2471",
   "metadata": {},
   "source": [
    "$$\n",
    "P(特征i|类别) = \\frac{此类别发生时特征i出现次数}{类别次数(好评/差评次数)}\n",
    "$$"
   ]
  },
  {
   "cell_type": "markdown",
   "id": "e6bbfd65",
   "metadata": {},
   "source": [
    "也可得出:"
   ]
  },
  {
   "cell_type": "markdown",
   "id": "8fd44cf8",
   "metadata": {},
   "source": [
    "$$P(类别) = \\frac{某类别次数}{好评、差评之和}$$"
   ]
  },
  {
   "cell_type": "markdown",
   "id": "0c5ec76a",
   "metadata": {},
   "source": [
    "如，$$ P(好评) = \\frac{好评次数}{好评、差评之和}$$"
   ]
  },
  {
   "cell_type": "markdown",
   "id": "ee4bdec0",
   "metadata": {},
   "source": [
    "通过**全概率公式**，可知(本情景下仅两种类别)"
   ]
  },
  {
   "cell_type": "markdown",
   "id": "9cc9cf85",
   "metadata": {},
   "source": [
    "$$\n",
    "P(特征) = P(类别1)*P(特征|类别1) + P(类别2)*P(特征|类别2)\n",
    "$$"
   ]
  },
  {
   "cell_type": "markdown",
   "id": "f6af0e37",
   "metadata": {},
   "source": [
    "我们可以想象下，无论求好评概率或者差评概率，最终都要 除以 P(特征), P(特征)对于此两种概率是无变化的，所以我们可以将其**忽略**，都不除，直接比较。"
   ]
  },
  {
   "cell_type": "markdown",
   "id": "2f57cdd9",
   "metadata": {},
   "source": [
    "此时，我们只需要求出所有 P(特征i|类别)，到时候便可方便使用贝叶斯公式计算, 代入到代码，可得\n",
    "\n",
    "good_pro, 即P(好评), 代表好评的概率\n",
    "\n",
    "good_num, 即好评次数\n",
    "\n",
    "bad_num，即差评次数\n",
    "\n",
    "good_vec, 作为一个好评向量，记录每次好评时，每个词语出现的次数\n",
    "\n",
    "bad_vec, 作为一个差评向量，记录每次差评时, 每个词语出现的次数\n",
    "\n",
    "good_vec_trained = good_vec / good_num，即用于存放所有的 P(特征i|好评)向量，每个值代表一个概率\n",
    "\n",
    "bad_vec_trained = bad_vec / bad_num, 即用于存放所有的 P(特征i|差评)向量，每个值代表一个概率"
   ]
  },
  {
   "cell_type": "markdown",
   "id": "181d4703",
   "metadata": {},
   "source": [
    "最后套用朴素贝叶斯公式，即可得出每条评论的情感，好评或差评。"
   ]
  },
  {
   "cell_type": "code",
   "execution_count": 28,
   "id": "17cf8d7f",
   "metadata": {},
   "outputs": [
    {
     "name": "stdout",
     "output_type": "stream",
     "text": [
      "good_pro is: 0.5993333333333334\n",
      "good_vec_trained is: [-4.19121324 -8.41072095 -5.9258143  ... -8.41072095 -8.41072095\n",
      " -8.41072095]\n",
      "bad_vec_trained is: [-3.78852514 -8.00803285 -7.31488567 ... -7.31488567 -7.31488567\n",
      " -7.31488567]\n"
     ]
    }
   ],
   "source": [
    "len_dic = len(dictionary)               #词典的长度，即所有词的长度\n",
    "\n",
    "good_pro = np.sum(y_train == '0')/len(X_train)     #好评率\n",
    "\n",
    "good_num = 0                    #好评的次数\n",
    "bad_num = 0                     #差评的次数\n",
    "\n",
    "\n",
    "#初始化之所以为 1，是防止P(特征i|类别)中某个为0，导致连乘积为0\n",
    "good_vec = np.ones(len_dic)             #向量组，每个值(词语)代表好评的次数,初始化全为1\n",
    "bad_vec = np.ones(len_dic)              #向量组，每个值(词语)代表差评的次数，初始化全为1\n",
    "\n",
    "\n",
    "for i in range(len(X_train)):\n",
    "\n",
    "    #代表的是好评\n",
    "    if y_train[i] == '0':\n",
    "        good_vec += X_train[i]                #把该评论词语代表的向量,累加到good_vec\n",
    "        good_num += 1                   #好评次数增加\n",
    "    \n",
    "    #否则是差评\n",
    "    else:\n",
    "        bad_vec += X_train[i]                #把该评论词语代表的向量,累加到bad_vec\n",
    "        bad_num += 1                    #差评次数增加\n",
    "\n",
    "\n",
    "#取log的原因有二：1、拉普拉斯平滑，防止太小的结果乘积造成下溢。2、log(连乘积)可以转化为 log累加\n",
    "good_vec_trained = np.log(good_vec/good_num)          #用于存放所有的 P(特征i|好评)向量，每个值代表一个概率\n",
    "bad_vec_trained = np.log(bad_vec/bad_num)             #用于存放所有的 P(特征i|差评)向量，每个值代表一个概率\n",
    "\n",
    "print('good_pro is: {}'.format(good_pro))\n",
    "print('good_vec_trained is: {}'.format(good_vec_trained))\n",
    "print('bad_vec_trained is: {}'.format(bad_vec_trained))"
   ]
  },
  {
   "cell_type": "markdown",
   "id": "919846c8",
   "metadata": {},
   "source": [
    "理论上讲此处 good_pro 应为 0.6，指的是好评概率，但可能获取的数据有些纰漏，导致good_pro为 0.599333，对于模型并无大碍。"
   ]
  },
  {
   "cell_type": "markdown",
   "id": "16a8a883",
   "metadata": {},
   "source": [
    "## Step7: 评估模型"
   ]
  },
  {
   "cell_type": "markdown",
   "id": "926f2431",
   "metadata": {},
   "source": [
    "训练完模型，得到good_vec_trained、bad_vec_trained、good_pro后，就可以直接根据**贝叶斯公式**计算好评或者差评的概率"
   ]
  },
  {
   "cell_type": "markdown",
   "id": "dfa37599",
   "metadata": {},
   "source": [
    "因为使用了**拉普拉斯平滑**，所以贝叶斯公式的分子项:"
   ]
  },
  {
   "cell_type": "markdown",
   "id": "a93ccbec",
   "metadata": {},
   "source": [
    "$$\n",
    "Log(P(特征|类别)P(类别)) = Log(P(特征1|类别) * P(特征2|类别) * P(特征3|类别) * ... * P(特征n|类别)) + Log(P(类别))\n",
    "$$"
   ]
  },
  {
   "cell_type": "markdown",
   "id": "1c1840aa",
   "metadata": {},
   "source": [
    "可转化为:"
   ]
  },
  {
   "cell_type": "markdown",
   "id": "ea6622f9",
   "metadata": {},
   "source": [
    "$$Log(P(特征|类别)P(类别))) = Log(P(特征1|类别)) + Log(P(特征2|类别)) + ... + Log(P(特征n|类别)) + Log(P(类别))$$"
   ]
  },
  {
   "cell_type": "markdown",
   "id": "3edeffa1",
   "metadata": {},
   "source": [
    "其中，X_test[i]  表示一个评论语句转化成的向量。\n",
    "\n",
    "例如，\n",
    "\n",
    "\n",
    "P(特征|好评) = X_test[i] * good_vec_trained，两个向量数组相乘，列表内的值，两两相乘，最后得到结果"
   ]
  },
  {
   "cell_type": "markdown",
   "id": "d7229356",
   "metadata": {},
   "source": [
    "以下是对测试集，未训练的数据进行测试，评估模型的性能"
   ]
  },
  {
   "cell_type": "code",
   "execution_count": 43,
   "id": "db2014f2",
   "metadata": {
    "scrolled": true
   },
   "outputs": [
    {
     "name": "stdout",
     "output_type": "stream",
     "text": [
      "朴素贝叶斯模型(bayes)预测的准确度: 0.9392\n"
     ]
    }
   ],
   "source": [
    "success_count = 0\n",
    "\n",
    "for i in range(2500):\n",
    "    \n",
    "    #代入朴素贝叶斯公式\n",
    "    \n",
    "    #评论好评的概率\n",
    "    good_pro_pre = np.sum(X_test[i] * good_vec_trained) + np.log(good_pro)\n",
    "    \n",
    "    #评论差评的概率\n",
    "    bad_pro_pre = np.sum(X_test[i] * bad_vec_trained) + np.log(1-good_pro)\n",
    "\n",
    "    #若好评概率大于差评概率\n",
    "    if good_pro_pre > bad_pro_pre:\n",
    "        result = '0'                     #输出好评\n",
    "\n",
    "    else:\n",
    "        result = '1'                     #否则输出差评\n",
    "\n",
    "    if(y_test[i] == result):            #若预测答案与真实答案相等，预测正确数量增加\n",
    "        success_count +=1\n",
    "\n",
    "        \n",
    "print('朴素贝叶斯模型(bayes)预测的准确度: {}'.format(success_count/2500))\n",
    "\n"
   ]
  },
  {
   "cell_type": "markdown",
   "id": "b524b48c",
   "metadata": {},
   "source": [
    "经过对 2500 条测试数据逐一预测，得到该模型的准确度为 93.92%，效果不算太差，模型构建成功，后续可作适当优化。"
   ]
  },
  {
   "cell_type": "markdown",
   "id": "059f8036",
   "metadata": {},
   "source": [
    "## Step8: 测试评论，输出情绪分类"
   ]
  },
  {
   "cell_type": "markdown",
   "id": "383b1e4b",
   "metadata": {},
   "source": [
    "输入 50 条评论信息，测试模型预测效果"
   ]
  },
  {
   "cell_type": "code",
   "execution_count": 42,
   "id": "e2424b88",
   "metadata": {
    "scrolled": false
   },
   "outputs": [
    {
     "name": "stdout",
     "output_type": "stream",
     "text": [
      "购买/买/笔记本电脑/太/视频/设计/没想到/听说/超乎/奇葩/根本无法/网络/底部/会议/想着/双下巴/照出来/脖子/基本功能/非正常/人形/前有/常人/思维/\n",
      "\n",
      "Predict result : 差评\tActual results: 差评\tPredict success!\t\n",
      "\n",
      "\n",
      "打开/电脑/软件/客服/微软/找/激活/退/摄像头/有时候/模糊/不回/打不开/敷衍了事/游览器/爱回/\n",
      "\n",
      "Predict result : 差评\tActual results: 差评\tPredict success!\t\n",
      "\n",
      "\n",
      "外观/好看/屏幕/运行/速度/效果/外形/程度/高/质感/挺快/便携/能力/行/高分辨率/刷新/\n",
      "\n",
      "Predict result : 好评\tActual results: 好评\tPredict success!\t\n",
      "\n",
      "\n",
      "好看/京东/物流/很快/喜欢/还行/总体/评价/前/老公/店里/支持/十年/戴尔/华为/不太会/\n",
      "\n",
      "Predict result : 好评\tActual results: 好评\tPredict success!\t\n",
      "\n",
      "\n",
      "不到/电脑/刚买/开机/卡/卡顿/半天/一个月/垃圾/\n",
      "\n",
      "Predict result : 差评\tActual results: 差评\tPredict success!\t\n",
      "\n",
      "\n",
      "性能/屏幕/运行/速度/显示/很快/很棒/清晰/特色/出色/协同/多屏/\n",
      "\n",
      "Predict result : 好评\tActual results: 好评\tPredict success!\t\n",
      "\n",
      "\n",
      "外观/好看/运行/速度/效果/外形/高级/程度/很快/特别/电脑/清晰/漂亮/开机/软件/装/弄/壁纸/设置/粉红色/机器人/\n",
      "\n",
      "Predict result : 好评\tActual results: 好评\tPredict success!\t\n",
      "\n",
      "\n",
      "流畅/不错/效果/电脑/满意/购物/收到/屏幕显示/\n",
      "\n",
      "Predict result : 好评\tActual results: 好评\tPredict success!\t\n",
      "\n",
      "\n",
      "外观/散热/运行/速度/外形/银色/声音/挺/电脑/喜欢/挺快/暂时/发现/挺重/\n",
      "\n",
      "Predict result : 好评\tActual results: 好评\tPredict success!\t\n",
      "\n",
      "\n",
      "指纹/解锁/客服/垃圾/解决问题/不灵敏/\n",
      "\n",
      "Predict result : 差评\tActual results: 差评\tPredict success!\t\n",
      "\n",
      "\n",
      "屏幕/键盘/特别/打开/收到/指纹/划痕/态度/客户/回答/差/下方/退回/只会/踢皮球/脏兮兮/间/印/避重就轻/\n",
      "\n",
      "Predict result : 差评\tActual results: 差评\tPredict success!\t\n",
      "\n",
      "\n",
      "外观/屏幕/不错/散热/分辨率/键盘/办公/运行/速度/效果/细腻/外形/很快/高/mac/很漂亮/稳定/触摸板/win11/90Hz/\n",
      "\n",
      "Predict result : 好评\tActual results: 好评\tPredict success!\t\n",
      "\n",
      "\n",
      "买/太/建议/不好/\n",
      "\n",
      "Predict result : 差评\tActual results: 差评\tPredict success!\t\n",
      "\n",
      "\n",
      "外观/速度/外形/很漂亮/清晰/快递/看着/很炫酷/\n",
      "\n",
      "Predict result : 好评\tActual results: 好评\tPredict success!\t\n",
      "\n",
      "\n",
      "外观/入手/键盘/物流/速度/外形/轻薄/程度/很快/高/包装/漂亮/开机/颜值/心/严实/强烈推荐/少女/粉色/发光/\n",
      "\n",
      "Predict result : 好评\tActual results: 好评\tPredict success!\t\n",
      "\n",
      "\n",
      "办公/舒服/特别/很大/画质/不卡/轻松/赞/推荐/平时/追剧/轻巧/打字/背着/上班族/上下班/\n",
      "\n",
      "Predict result : 好评\tActual results: 好评\tPredict success!\t\n",
      "\n",
      "\n",
      "强大/外观/运行/速度/很快/电脑/购买/中/很漂亮/处理器/硬盘/内存/惊喜/轻松/希望/失望/固态/过程/带来/应对/大学/生活/认准/\n",
      "\n",
      "Predict result : 好评\tActual results: 好评\tPredict success!\t\n",
      "\n",
      "\n",
      "性能/外观/好看/电脑/满意/买/喜欢/笔记本电脑/感受/刚刚/重量/大型/游戏/尺寸/平时/太多/学生/太重/电视剧/惠普/粉红色/\n",
      "\n",
      "Predict result : 好评\tActual results: 好评\tPredict success!\t\n",
      "\n",
      "\n",
      "外观/屏幕/不错/效果/外形/轻薄/程度/合适/体验/清晰/喜欢/适合/感/轻便/学习/耐心/比较满意/女生/追剧/客服/小游戏/\n",
      "\n",
      "Predict result : 好评\tActual results: 好评\tPredict success!\t\n",
      "\n",
      "\n",
      "颜色/京东/物流/轻薄/特别/电脑/系统/笔记本电脑/选/服务态度/一如既往/手感/开机/高大/机身/没得说/耐心/自带/客服/联想/windows11/激活/产品包装/步骤/即可/\n",
      "\n",
      "Predict result : 好评\tActual results: 好评\tPredict success!\t\n",
      "\n",
      "\n",
      "性能/外观/视网膜/散热/苹果/运行/速度/效果/外形/程度/很快/发热/满意/特色/以旧换新/arm/架构/16G/块/内存/英特尔/m1/新/便宜/飞起/比官/网/750/补贴/碾压/\n",
      "\n",
      "Predict result : 好评\tActual results: 好评\tPredict success!\t\n",
      "\n",
      "\n",
      "耐用/京东/物流/好评/细腻/很快/包装/体验/配置/第二天/总体/购物/一如既往/开机/屏幕显示/几次/希望/方便快捷/硬件/到手/启动/地快/迟钝/符合要求/\n",
      "\n",
      "Predict result : 好评\tActual results: 好评\tPredict success!\t\n",
      "\n",
      "\n",
      "外观/不错/外形/轻薄/程度/高/买/送/性价比/适合/整体/开机/软件/金属/顺滑/拿到/简洁/顺畅/昨天/放/正版/挺轻/office/风/包里/通勤/\n",
      "\n",
      "Predict result : 好评\tActual results: 好评\tPredict success!\t\n",
      "\n",
      "\n",
      "强大/流畅/感觉/系统/变化/软件/越来越/期待/实在/普及/\n",
      "\n",
      "Predict result : 好评\tActual results: 好评\tPredict success!\t\n",
      "\n",
      "\n",
      "运行/速度/强/很快/热/M1/真香/续航/能力/屏幕显示/一会/呼呼/\n",
      "\n",
      "Predict result : 好评\tActual results: 好评\tPredict success!\t\n",
      "\n",
      "\n",
      "屏幕/完美/中/开机/配送/希望/影响/好大/设置/大暴雨/\n",
      "\n",
      "Predict result : 好评\tActual results: 好评\tPredict success!\t\n",
      "\n",
      "\n",
      "京东/质量/速度/挺/电脑/发货/没什么/到货/\n",
      "\n",
      "Predict result : 好评\tActual results: 好评\tPredict success!\t\n",
      "\n",
      "\n",
      "外观/好看/屏幕/散热/不算/真的/声音/很大/高/超级/买/性价比/热/爽/看着/上网/网课/课才/运存/\n",
      "\n",
      "Predict result : 好评\tActual results: 好评\tPredict success!\t\n",
      "\n",
      "\n",
      "电脑/刚买/商家/客服/电话/有个/解决问题/闪/人工/就让/屁用/\n",
      "\n",
      "Predict result : 差评\tActual results: 差评\tPredict success!\t\n",
      "\n",
      "\n",
      "外观/颜色/不错/键盘/效果/做工/比上/清晰/寸/14/手感/拆开/屏幕显示/检查/触摸板/到手/锐利/工整/小钢炮/\n",
      "\n",
      "Predict result : 好评\tActual results: 好评\tPredict success!\t\n",
      "\n",
      "\n",
      "性能/外观/好看/屏幕/散热/入手/运行/速度/效果/外形/轻薄/程度/挺快/简约/学习/ok/自带/学生/党/office/不厚/\n",
      "\n",
      "Predict result : 好评\tActual results: 好评\tPredict success!\t\n",
      "\n",
      "\n",
      "触摸板/不行/一个月/\n",
      "\n",
      "Predict result : 差评\tActual results: 差评\tPredict success!\t\n",
      "\n",
      "\n",
      "轻薄/中/体验/款/系统/喜欢/新款/美观/整/Win11/新版/\n",
      "\n",
      "Predict result : 好评\tActual results: 好评\tPredict success!\t\n",
      "\n",
      "\n",
      "晚上/一周/百分之/买不到/睡眠/\n",
      "\n",
      "Predict result : 差评\tActual results: 差评\tPredict success!\t\n",
      "\n",
      "\n",
      "颜色/屏幕/不错/感觉/键盘/银色/真的/高/几天/清晰/买/喜欢/重量/评价/性价比/不卡/颜值/赞/走/哒/女生/ps/大学/人脸识别/背光/彩/cad/\n",
      "\n",
      "Predict result : 好评\tActual results: 好评\tPredict success!\t\n",
      "\n",
      "\n",
      "性能/外观/屏幕/散热/运行/速度/效果/外形/轻薄/程度/合适/完美/时尚/特色/超好/尽在不言中/极速/\n",
      "\n",
      "Predict result : 好评\tActual results: 好评\tPredict success!\t\n",
      "\n",
      "\n",
      "视频/拆开/磕碰/开关/处有/作证/\n",
      "\n",
      "Predict result : 差评\tActual results: 差评\tPredict success!\t\n",
      "\n",
      "\n",
      "流畅/音质/办公/质量/运行/细腻/轻薄/视频/不卡顿/开机/杠杠/屏幕显示/能用/卸载/装个/版本/滴/可靠/office/改天/三五年/反复/\n",
      "\n",
      "Predict result : 好评\tActual results: 好评\tPredict success!\t\n",
      "\n",
      "\n",
      "好看/颜色/效果/外形/轻薄/程度/重/舒服/清晰/大气/轻/轻便/简单/大方/大爱/看着/几次/顺畅/上档次/超赞/心情/拍/清/随便/外带/舒畅/\n",
      "\n",
      "Predict result : 好评\tActual results: 好评\tPredict success!\t\n",
      "\n",
      "\n",
      "真的/声音/怀疑/手机/很差/黑屏/打不开/\n",
      "\n",
      "Predict result : 差评\tActual results: 差评\tPredict success!\t\n",
      "\n",
      "\n",
      "性能/屏幕/中/清晰/快递/双十/一买/本来/周日/周五/感谢/小哥/代/bookpro/换/这款/想象/略沉/接受/目前为止/地表/最强/先/一段时间/评价/\n",
      "\n",
      "Predict result : 好评\tActual results: 好评\tPredict success!\t\n",
      "\n",
      "\n",
      "买/12/完/保价/一侧/500/十二/触/控盘/偏低/\n",
      "\n",
      "Predict result : 差评\tActual results: 差评\tPredict success!\t\n",
      "\n",
      "\n",
      "流畅/音质/运行/几天/一流/好用/体验/型/接受/评价/习惯/设计/生产力/软件/外型/最新款/理想/\n",
      "\n",
      "Predict result : 好评\tActual results: 好评\tPredict success!\t\n",
      "\n",
      "\n",
      "苹果/好评/真的/Mac/耳机/太好/手机/平板/换成/全家/桶/壮大/巨好/\n",
      "\n",
      "Predict result : 好评\tActual results: 好评\tPredict success!\t\n",
      "\n",
      "\n",
      "掉/无语/\n",
      "\n",
      "Predict result : 差评\tActual results: 差评\tPredict success!\t\n",
      "\n",
      "\n",
      "买/卡/全新/原因/多久/\n",
      "\n",
      "Predict result : 差评\tActual results: 差评\tPredict success!\t\n",
      "\n",
      "\n",
      "配送/送货上门/\n",
      "\n",
      "Predict result : 好评\tActual results: 差评\tPredict fail!\t\n",
      "\n",
      "\n",
      "办公/保障/做工/质感/满意/这款/玩游戏/轻便/游戏/需求/品牌/赞/老公/算/点个/网课/显卡/很久选/一家/凑合/三口/\n",
      "\n",
      "Predict result : 好评\tActual results: 好评\tPredict success!\t\n",
      "\n",
      "\n",
      "外观/好看/不错/京东/运行/速度/很快/电脑/款/机器/适合/孩子/选择/收到/美观/赞/上网/课/疫情/大小/激动/正好/暗处/摄像头/体积/轻盈/隐藏/时期/\n",
      "\n",
      "Predict result : 好评\tActual results: 好评\tPredict success!\t\n",
      "\n",
      "\n",
      "降价/一个月/500/\n",
      "\n",
      "Predict result : 差评\tActual results: 差评\tPredict success!\t\n",
      "\n",
      "\n",
      "本次测试预测准确度为: 0.98\n"
     ]
    }
   ],
   "source": [
    "import random\n",
    "\n",
    "dic_len = len(dictionary)\n",
    "\n",
    "start = random.randint(50, 2450)\n",
    "\n",
    "#从测试集中随机抽取50条数据，准备测试\n",
    "X_data = X_test[start:start+50]\n",
    "y_data = y_test[start:start+50]\n",
    "\n",
    "success_test = 0\n",
    "\n",
    "#对 50条评论信息进行预测\n",
    "for sequence_index in range(len(X_data)):\n",
    "    \n",
    "    #找到该 评论语句 切分后的词组对应的位置，返回一个数组\n",
    "    locs = np.where(X_data[sequence_index] == 1)\n",
    "    \n",
    "    #输出切分、分词后的评论内容\n",
    "    for loc in locs[0]:\n",
    "        print(dictionary[loc] ,end='/')\n",
    "    \n",
    "    print('\\n')\n",
    "    \n",
    "    #代入朴素贝叶斯公式\n",
    "    good_pro_pre = np.sum(X_data[sequence_index] * good_vec_trained) + np.log(good_pro)         #评论好评的概率\n",
    "    bad_pro_pre = np.sum(X_data[sequence_index] * bad_vec_trained) + np.log(1-good_pro)         #评论差评的概率\n",
    "\n",
    "    #0 代表好评， 1代表差评\n",
    "    #若好评概率大于差评概率\n",
    "    if good_pro_pre > bad_pro_pre:\n",
    "        result = '0'                     #输出好评\n",
    "        print('Predict result : 好评', end='\\t')\n",
    "    else:\n",
    "        result = '1'                     #否则输出差评\n",
    "        print('Predict result : 差评', end='\\t')\n",
    "    \n",
    "    #实际该评论的结果\n",
    "    if y_data[sequence_index] == '0':\n",
    "        print('Actual results: 好评', end='\\t')\n",
    "    else:   \n",
    "        print('Actual results: 差评', end='\\t')\n",
    "        \n",
    "    #判断是否预测正确\n",
    "    if result == y_data[sequence_index]:\n",
    "        print('Predict success!', end='\\t')\n",
    "        success_test += 1\n",
    "    else:\n",
    "        print('Predict fail!', end='\\t')\n",
    "\n",
    "\n",
    "    print('\\n\\n')\n",
    "\n",
    "print('本次测试预测准确度为: {}'.format(success_test/50))"
   ]
  },
  {
   "cell_type": "markdown",
   "id": "55945b0d",
   "metadata": {},
   "source": [
    "由上可见，本次准确度为 98%，说明50次预测中，49次成功，1次失败。\n",
    "\n",
    "失败的案例是因为切词过于严重，仅剩两个有效词向量，出现了异常的情况，可适当对其进行调整，增加准确度。"
   ]
  },
  {
   "cell_type": "markdown",
   "id": "8e6439cf",
   "metadata": {},
   "source": [
    "## 小结"
   ]
  },
  {
   "cell_type": "markdown",
   "id": "0c4b4d24",
   "metadata": {},
   "source": [
    "由于本人技术有限，并不清楚**词嵌入**部分内容，也只是采用了笨拙的统计词频词典方法，期间耗费的内存空间略大，所以并不是特别完美，希望能够帮到需要的小伙伴吧，如有疑问可在下方留言或私信。"
   ]
  }
 ],
 "metadata": {
  "kernelspec": {
   "display_name": "Python 3 (ipykernel)",
   "language": "python",
   "name": "python3"
  },
  "language_info": {
   "codemirror_mode": {
    "name": "ipython",
    "version": 3
   },
   "file_extension": ".py",
   "mimetype": "text/x-python",
   "name": "python",
   "nbconvert_exporter": "python",
   "pygments_lexer": "ipython3",
   "version": "3.7.2"
  }
 },
 "nbformat": 4,
 "nbformat_minor": 5
}
